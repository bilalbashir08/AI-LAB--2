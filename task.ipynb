{
 "cells": [
  {
   "cell_type": "code",
   "execution_count": 22,
   "metadata": {},
   "outputs": [],
   "source": [
    "import pandas as pd "
   ]
  },
  {
   "cell_type": "code",
   "execution_count": 23,
   "metadata": {},
   "outputs": [],
   "source": [
    "df = pd.read_csv(\"vgsalesGlobale.csv\")"
   ]
  },
  {
   "cell_type": "code",
   "execution_count": 24,
   "metadata": {},
   "outputs": [
    {
     "name": "stdout",
     "output_type": "stream",
     "text": [
      "Total Global Sales: 8920.44\n"
     ]
    }
   ],
   "source": [
    "total_global_sales = df['Global_Sales'].sum()\n",
    "print(\"Total Global Sales:\", total_global_sales)\n"
   ]
  },
  {
   "cell_type": "code",
   "execution_count": 25,
   "metadata": {},
   "outputs": [
    {
     "name": "stdout",
     "output_type": "stream",
     "text": [
      "Game with the highest global sales: Wii Sports\n"
     ]
    }
   ],
   "source": [
    "game_with_highest_sales = df.loc[df['Global_Sales'].idxmax()]\n",
    "print(\"Game with the highest global sales:\", game_with_highest_sales['Name'])\n"
   ]
  },
  {
   "cell_type": "code",
   "execution_count": 26,
   "metadata": {},
   "outputs": [
    {
     "name": "stdout",
     "output_type": "stream",
     "text": [
      "Average Sales by Region:\n",
      "NA_Sales       0.264667\n",
      "EU_Sales       0.146652\n",
      "JP_Sales       0.077782\n",
      "Other_Sales    0.048063\n",
      "dtype: float64\n"
     ]
    }
   ],
   "source": [
    "average_sales_by_region = df[['NA_Sales', 'EU_Sales', 'JP_Sales', 'Other_Sales']].mean()\n",
    "print(\"Average Sales by Region:\")\n",
    "print(average_sales_by_region)\n"
   ]
  },
  {
   "cell_type": "code",
   "execution_count": 27,
   "metadata": {},
   "outputs": [
    {
     "name": "stdout",
     "output_type": "stream",
     "text": [
      "Most popular genre in North America based on sales: Action\n"
     ]
    }
   ],
   "source": [
    "genre_sales_by_region = df.groupby('Genre')[['NA_Sales', 'EU_Sales', 'JP_Sales', 'Other_Sales']].sum()\n",
    "most_popular_genre_na = genre_sales_by_region['NA_Sales'].idxmax()\n",
    "print(f\"Most popular genre in North America based on sales: {most_popular_genre_na}\")\n"
   ]
  },
  {
   "cell_type": "code",
   "execution_count": 28,
   "metadata": {},
   "outputs": [
    {
     "name": "stdout",
     "output_type": "stream",
     "text": [
      "Last 10 rows of the dataset:\n",
      "        Rank                                               Name Platform  \\\n",
      "16588  16591                                   Mega Brain Boost       DS   \n",
      "16589  16592  Chou Ezaru wa Akai Hana: Koi wa Tsuki ni Shiru...      PSV   \n",
      "16590  16593  Eiyuu Densetsu: Sora no Kiseki Material Collec...      PSP   \n",
      "16591  16594                                Myst IV: Revelation       PC   \n",
      "16592  16595                                           Plushees       DS   \n",
      "16593  16596                 Woody Woodpecker in Crazy Castle 5      GBA   \n",
      "16594  16597                      Men in Black II: Alien Escape       GC   \n",
      "16595  16598   SCORE International Baja 1000: The Official Game      PS2   \n",
      "16596  16599                                         Know How 2       DS   \n",
      "16597  16600                                   Spirits & Spells      GBA   \n",
      "\n",
      "         Year         Genre              Publisher  NA_Sales  EU_Sales  \\\n",
      "16588  2008.0        Puzzle  Majesco Entertainment      0.01      0.00   \n",
      "16589  2016.0        Action        dramatic create      0.00      0.00   \n",
      "16590  2007.0  Role-Playing     Falcom Corporation      0.00      0.00   \n",
      "16591  2004.0     Adventure                Ubisoft      0.01      0.00   \n",
      "16592  2008.0    Simulation              Destineer      0.01      0.00   \n",
      "16593  2002.0      Platform                  Kemco      0.01      0.00   \n",
      "16594  2003.0       Shooter             Infogrames      0.01      0.00   \n",
      "16595  2008.0        Racing             Activision      0.00      0.00   \n",
      "16596  2010.0        Puzzle               7G//AMES      0.00      0.01   \n",
      "16597  2003.0      Platform                Wanadoo      0.01      0.00   \n",
      "\n",
      "       JP_Sales  Other_Sales  Global_Sales  \n",
      "16588      0.00          0.0          0.01  \n",
      "16589      0.01          0.0          0.01  \n",
      "16590      0.01          0.0          0.01  \n",
      "16591      0.00          0.0          0.01  \n",
      "16592      0.00          0.0          0.01  \n",
      "16593      0.00          0.0          0.01  \n",
      "16594      0.00          0.0          0.01  \n",
      "16595      0.00          0.0          0.01  \n",
      "16596      0.00          0.0          0.01  \n",
      "16597      0.00          0.0          0.01  \n"
     ]
    }
   ],
   "source": [
    "last_10_rows = df.tail(10)\n",
    "print(\"Last 10 rows of the dataset:\")\n",
    "print(last_10_rows)\n"
   ]
  },
  {
   "cell_type": "code",
   "execution_count": 29,
   "metadata": {},
   "outputs": [
    {
     "name": "stdout",
     "output_type": "stream",
     "text": [
      "Top 3 gaming platforms with highest global sales:\n",
      "Platform\n",
      "PS2     1255.64\n",
      "X360     979.96\n",
      "PS3      957.84\n",
      "Name: Global_Sales, dtype: float64\n"
     ]
    }
   ],
   "source": [
    "top_3_platforms = df.groupby('Platform')['Global_Sales'].sum().sort_values(ascending=False).head(3)\n",
    "print(\"Top 3 gaming platforms with highest global sales:\")\n",
    "print(top_3_platforms)\n"
   ]
  },
  {
   "cell_type": "code",
   "execution_count": 30,
   "metadata": {},
   "outputs": [
    {
     "name": "stdout",
     "output_type": "stream",
     "text": [
      "Market share (percentage of global sales) for each genre:\n",
      "Genre\n",
      "Action          19.631094\n",
      "Adventure        2.679688\n",
      "Fighting         5.032375\n",
      "Misc             9.079821\n",
      "Platform         9.319832\n",
      "Puzzle           2.745941\n",
      "Racing           8.206322\n",
      "Role-Playing    10.396012\n",
      "Shooter         11.629135\n",
      "Simulation       4.396644\n",
      "Sports          14.920004\n",
      "Strategy         1.963132\n",
      "Name: Global_Sales, dtype: float64\n"
     ]
    }
   ],
   "source": [
    "total_sales = df['Global_Sales'].sum()\n",
    "genre_sales = df.groupby('Genre')['Global_Sales'].sum()\n",
    "genre_market_share = (genre_sales / total_sales) * 100\n",
    "print(\"Market share (percentage of global sales) for each genre:\")\n",
    "print(genre_market_share)\n"
   ]
  },
  {
   "cell_type": "code",
   "execution_count": 31,
   "metadata": {},
   "outputs": [
    {
     "name": "stdout",
     "output_type": "stream",
     "text": [
      "Correlation coefficient between NA_Sales and EU_Sales: 0.767726748370263\n"
     ]
    }
   ],
   "source": [
    "correlation_na_eu = df['NA_Sales'].corr(df['EU_Sales'])\n",
    "print(f\"Correlation coefficient between NA_Sales and EU_Sales: {correlation_na_eu}\")\n"
   ]
  },
  {
   "cell_type": "code",
   "execution_count": 32,
   "metadata": {},
   "outputs": [
    {
     "name": "stdout",
     "output_type": "stream",
     "text": [
      "The Spanish translation of 'hello' is 'hola'.\n",
      "The Spanish translation of 'hello' is 'hola'.\n",
      "Goodbye!\n"
     ]
    }
   ],
   "source": [
    "# Creating an English-Spanish dictionary\n",
    "dictionary = {\n",
    "    \"hello\": \"hola\",\n",
    "    \"goodbye\": \"adiós\",\n",
    "    \"book\": \"libro\"\n",
    "}\n",
    "\n",
    "# Loop to allow multiple lookups\n",
    "while True:\n",
    "    # Asking the user to input an English word\n",
    "    word = input(\"Enter an English word to translate to Spanish (or 'exit' to quit): \").lower()\n",
    "    \n",
    "    # Exit condition\n",
    "    if word == 'exit':\n",
    "        print(\"Goodbye!\")\n",
    "        break\n",
    "    \n",
    "    # Check if the word exists in the dictionary\n",
    "    if word in dictionary:\n",
    "        print(f\"The Spanish translation of '{word}' is '{dictionary[word]}'.\")\n",
    "    else:\n",
    "        print(f\"Sorry, the translation for '{word}' is not available.\")\n"
   ]
  },
  {
   "cell_type": "code",
   "execution_count": 36,
   "metadata": {},
   "outputs": [
    {
     "name": "stdout",
     "output_type": "stream",
     "text": [
      "Important Emails:\n",
      "['Urgent action required: Your account has been compromised.', 'Important: Your payment is due tomorrow.']\n",
      "\n",
      "Promotions Emails:\n",
      "['Limited time offer: 50% off on all items. Buy now!', 'Exclusive discount just for you! Sale ends soon.']\n",
      "\n",
      "Spam Emails:\n",
      "[\"Congratulations! You've won a free cash prize!\", \"Don't miss out! Win a lottery prize today!\"]\n"
     ]
    }
   ],
   "source": [
    "import re\n",
    "\n",
    "def classify_emails(emails):\n",
    "    # Keywords for each category\n",
    "    important_keywords = ['urgent', 'important']\n",
    "    promotions_keywords = ['offer', 'deal', 'sale', 'discount']\n",
    "    spam_keywords = ['free', 'win', 'cash prize', 'lottery']\n",
    "\n",
    "    # Categorized email lists\n",
    "    important_emails = []\n",
    "    promotions_emails = []\n",
    "    spam_emails = []\n",
    "\n",
    "    # Loop through each email and classify\n",
    "    for email in emails:\n",
    "        email_lower = email.lower()\n",
    "\n",
    "        # Check for important keywords\n",
    "        if any(keyword in email_lower for keyword in important_keywords):\n",
    "            important_emails.append(email)\n",
    "\n",
    "        # Check for promotions keywords\n",
    "        if any(keyword in email_lower for keyword in promotions_keywords):\n",
    "            promotions_emails.append(email)\n",
    "\n",
    "        # Check for spam keywords\n",
    "        if any(keyword in email_lower for keyword in spam_keywords):\n",
    "            spam_emails.append(email)\n",
    "\n",
    "    # Return categorized lists\n",
    "    return important_emails, promotions_emails, spam_emails\n",
    "\n",
    "# Example usage\n",
    "emails = [\n",
    "    \"Urgent action required: Your account has been compromised.\",\n",
    "    \"Congratulations! You've won a free cash prize!\",\n",
    "    \"Limited time offer: 50% off on all items. Buy now!\",\n",
    "    \"Important: Your payment is due tomorrow.\",\n",
    "    \"Don't miss out! Win a lottery prize today!\",\n",
    "    \"Reminder: Project deadline is in 2 days.\",\n",
    "    \"Exclusive discount just for you! Sale ends soon.\"\n",
    "]\n",
    "\n",
    "important, promotions, spam = classify_emails(emails)\n",
    "\n",
    "\n",
    "print(\"Important Emails:\")\n",
    "print(important)\n",
    "print(\"\\nPromotions Emails:\")\n",
    "print(promotions)\n",
    "print(\"\\nSpam Emails:\")\n",
    "print(spam)\n"
   ]
  },
  {
   "cell_type": "code",
   "execution_count": 34,
   "metadata": {},
   "outputs": [
    {
     "name": "stdout",
     "output_type": "stream",
     "text": [
      "Element-wise addition:\n",
      "[ 6  8 10 12]\n",
      "\n",
      "Element-wise product:\n",
      "[ 5 12 21 32]\n"
     ]
    }
   ],
   "source": [
    "import numpy as np\n",
    "\n",
    "# Create two NumPy arrays of the same shape\n",
    "array1 = np.array([1, 2, 3, 4])\n",
    "array2 = np.array([5, 6, 7, 8])\n",
    "\n",
    "# Element-wise addition\n",
    "sum_array = array1 + array2\n",
    "print(\"Element-wise addition:\")\n",
    "print(sum_array)\n",
    "\n",
    "# Element-wise product\n",
    "product_array = array1 * array2\n",
    "print(\"\\nElement-wise product:\")\n",
    "print(product_array)\n"
   ]
  },
  {
   "cell_type": "code",
   "execution_count": 35,
   "metadata": {},
   "outputs": [
    {
     "name": "stdout",
     "output_type": "stream",
     "text": [
      "Reshaped 2D array (3, 4):\n",
      "[[ 1  2  3  4]\n",
      " [ 5  6  7  8]\n",
      " [ 9 10 11 12]]\n",
      "\n",
      "Horizontal concatenation:\n",
      "[1 2 3 4 5 6]\n",
      "\n",
      "Vertical concatenation:\n",
      "[[1 4]\n",
      " [2 5]\n",
      " [3 6]]\n"
     ]
    }
   ],
   "source": [
    "import numpy as np\n",
    "\n",
    "\n",
    "array_1d = np.array([1, 2, 3, 4, 5, 6, 7, 8, 9, 10, 11, 12])\n",
    "\n",
    "array_2d = array_1d.reshape(3, 4)\n",
    "print(\"Reshaped 2D array (3, 4):\")\n",
    "print(array_2d)\n",
    "\n",
    "array1 = np.array([1, 2, 3])\n",
    "array2 = np.array([4, 5, 6])\n",
    "\n",
    "horizontal_concat = np.concatenate((array1, array2), axis=0)\n",
    "print(\"\\nHorizontal concatenation:\")\n",
    "print(horizontal_concat)\n",
    "\n",
    "vertical_concat = np.concatenate((array1.reshape(-1, 1), array2.reshape(-1, 1)), axis=1)\n",
    "print(\"\\nVertical concatenation:\")\n",
    "print(vertical_concat)\n"
   ]
  },
  {
   "cell_type": "code",
   "execution_count": 37,
   "metadata": {},
   "outputs": [
    {
     "name": "stdout",
     "output_type": "stream",
     "text": [
      "[5, 4, 3, 2, 1]\n"
     ]
    }
   ],
   "source": [
    "my_list = [1, 2, 3, 4, 5]\n",
    "reversed_list = my_list[::-1]\n",
    "print(reversed_list)\n"
   ]
  },
  {
   "cell_type": "code",
   "execution_count": 38,
   "metadata": {},
   "outputs": [
    {
     "name": "stdout",
     "output_type": "stream",
     "text": [
      "Welcome to the online store!\n",
      "Available products:\n",
      "1. AI Response Simulator\n",
      "2. Investment Decision Tool\n",
      "3. Data Analytics Suite\n",
      "To quit, type 'q'.\n",
      "Investment Decision Tool added to your shopping cart.\n",
      "Data Analytics Suite added to your shopping cart.\n",
      "Invalid choice! Please select a number between 1 and 3.\n",
      "\n",
      "Your shopping cart contains:\n",
      "- Investment Decision Tool\n",
      "- Data Analytics Suite\n",
      "\n",
      "Thank you for shopping with us! Goodbye!\n"
     ]
    }
   ],
   "source": [
    "# Initialize an empty list for the shopping cart\n",
    "shopping_cart = []\n",
    "\n",
    "# Display a welcome message and available products\n",
    "print(\"Welcome to the online store!\")\n",
    "print(\"Available products:\")\n",
    "print(\"1. AI Response Simulator\")\n",
    "print(\"2. Investment Decision Tool\")\n",
    "print(\"3. Data Analytics Suite\")\n",
    "print(\"To quit, type 'q'.\")\n",
    "\n",
    "# Start a loop to interact with the user\n",
    "while True:\n",
    "    # Prompt the user to enter the number corresponding to the product they want to add\n",
    "    choice = input(\"Enter the number of the product you want to add to the cart (or 'q' to quit): \")\n",
    "\n",
    "    # Check if the user wants to quit the program\n",
    "    if choice.lower() == 'q':\n",
    "        break\n",
    "\n",
    "    # Validate the input (make sure it's an integer within the valid range)\n",
    "    if choice.isdigit():\n",
    "        choice = int(choice)\n",
    "        if 1 <= choice <= 3:\n",
    "            # Add the selected product to the shopping cart\n",
    "            if choice == 1:\n",
    "                shopping_cart.append(\"AI Response Simulator\")\n",
    "                print(\"AI Response Simulator added to your shopping cart.\")\n",
    "            elif choice == 2:\n",
    "                shopping_cart.append(\"Investment Decision Tool\")\n",
    "                print(\"Investment Decision Tool added to your shopping cart.\")\n",
    "            elif choice == 3:\n",
    "                shopping_cart.append(\"Data Analytics Suite\")\n",
    "                print(\"Data Analytics Suite added to your shopping cart.\")\n",
    "        else:\n",
    "            print(\"Invalid choice! Please select a number between 1 and 3.\")\n",
    "    else:\n",
    "        print(\"Invalid input! Please enter a number between 1 and 3 or 'q' to quit.\")\n",
    "\n",
    "# Display the contents of the shopping cart after the loop ends\n",
    "print(\"\\nYour shopping cart contains:\")\n",
    "for item in shopping_cart:\n",
    "    print(\"- \" + item)\n",
    "\n",
    "# Display a goodbye message\n",
    "print(\"\\nThank you for shopping with us! Goodbye!\")\n"
   ]
  },
  {
   "cell_type": "code",
   "execution_count": null,
   "metadata": {},
   "outputs": [],
   "source": []
  },
  {
   "cell_type": "code",
   "execution_count": null,
   "metadata": {},
   "outputs": [],
   "source": []
  }
 ],
 "metadata": {
  "kernelspec": {
   "display_name": "Python 3",
   "language": "python",
   "name": "python3"
  },
  "language_info": {
   "codemirror_mode": {
    "name": "ipython",
    "version": 3
   },
   "file_extension": ".py",
   "mimetype": "text/x-python",
   "name": "python",
   "nbconvert_exporter": "python",
   "pygments_lexer": "ipython3",
   "version": "3.11.5"
  }
 },
 "nbformat": 4,
 "nbformat_minor": 2
}
